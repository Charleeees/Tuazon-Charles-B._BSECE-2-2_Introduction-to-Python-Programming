{
  "nbformat": 4,
  "nbformat_minor": 0,
  "metadata": {
    "colab": {
      "name": "Introduction to Python Programming",
      "provenance": [],
      "collapsed_sections": [],
      "include_colab_link": true
    },
    "kernelspec": {
      "display_name": "Python 3",
      "name": "python3"
    }
  },
  "cells": [
    {
      "cell_type": "markdown",
      "metadata": {
        "id": "view-in-github",
        "colab_type": "text"
      },
      "source": [
        "<a href=\"https://colab.research.google.com/github/Charleeees/Tuazon-Charles-B._BSECE-2-2_Introduction-to-Python-Programming/blob/main/Introduction_to_Python_Programming.ipynb\" target=\"_parent\"><img src=\"https://colab.research.google.com/assets/colab-badge.svg\" alt=\"Open In Colab\"/></a>"
      ]
    },
    {
      "cell_type": "code",
      "metadata": {
        "id": "Y225bzf8pZLS",
        "colab": {
          "base_uri": "https://localhost:8080/"
        },
        "outputId": "37f528d2-41cb-405c-ce25-bdd520fa63aa"
      },
      "source": [
        "print(\"Welcome To Python Programming.\") "
      ],
      "execution_count": null,
      "outputs": [
        {
          "output_type": "stream",
          "name": "stdout",
          "text": [
            "Welcome To Python Programming.\n"
          ]
        }
      ]
    },
    {
      "cell_type": "code",
      "metadata": {
        "id": "7gExIscXzIo3",
        "colab": {
          "base_uri": "https://localhost:8080/"
        },
        "outputId": "64a451ca-e994-472d-b418-1c2497a0ba52"
      },
      "source": [
        "b = \"Sally\"\n",
        "print(b)"
      ],
      "execution_count": null,
      "outputs": [
        {
          "output_type": "stream",
          "name": "stdout",
          "text": [
            "Sally\n"
          ]
        }
      ]
    },
    {
      "cell_type": "code",
      "metadata": {
        "id": "ebQnDIzUzWmL",
        "colab": {
          "base_uri": "https://localhost:8080/"
        },
        "outputId": "73fa287f-f9fa-487d-fef3-e74b2ada246a"
      },
      "source": [
        "b= int(4)\n",
        "print(b)"
      ],
      "execution_count": null,
      "outputs": [
        {
          "output_type": "stream",
          "name": "stdout",
          "text": [
            "4\n"
          ]
        }
      ]
    },
    {
      "cell_type": "code",
      "metadata": {
        "id": "mX3GAx5tzh3q",
        "colab": {
          "base_uri": "https://localhost:8080/"
        },
        "outputId": "5aa520dc-bfdc-4009-e113-36af7631c51b"
      },
      "source": [
        "b = float(4)\n",
        "print(round((b),3))"
      ],
      "execution_count": null,
      "outputs": [
        {
          "output_type": "stream",
          "name": "stdout",
          "text": [
            "4.0\n"
          ]
        }
      ]
    },
    {
      "cell_type": "code",
      "metadata": {
        "id": "KhhlehpGztPD",
        "colab": {
          "base_uri": "https://localhost:8080/"
        },
        "outputId": "10eb751a-bdd2-461c-ac14-a6988e388400"
      },
      "source": [
        "x = 5\n",
        "y = (\"John\")\n",
        "print(type(x))\n",
        "print(type(y))"
      ],
      "execution_count": null,
      "outputs": [
        {
          "output_type": "stream",
          "name": "stdout",
          "text": [
            "<class 'int'>\n",
            "<class 'str'>\n"
          ]
        }
      ]
    },
    {
      "cell_type": "code",
      "metadata": {
        "id": "YAZdjT45z5eM",
        "colab": {
          "base_uri": "https://localhost:8080/"
        },
        "outputId": "25b75471-27e2-443c-b5d2-412001c638b7"
      },
      "source": [
        "a=4\n",
        "A=\"Sally\"\n",
        "print(a)\n",
        "print(A)"
      ],
      "execution_count": null,
      "outputs": [
        {
          "output_type": "stream",
          "name": "stdout",
          "text": [
            "4\n",
            "Sally\n"
          ]
        }
      ]
    },
    {
      "cell_type": "code",
      "metadata": {
        "id": "q5ghWS_Qz_yK",
        "colab": {
          "base_uri": "https://localhost:8080/"
        },
        "outputId": "835bab82-9062-461d-ca23-b334288262e8"
      },
      "source": [
        "x,y,z=\"one,\",\"two\",\"three\"\n",
        "print(x)\n",
        "print(y)\n",
        "print(z)"
      ],
      "execution_count": null,
      "outputs": [
        {
          "output_type": "stream",
          "name": "stdout",
          "text": [
            "one,\n",
            "two\n",
            "three\n"
          ]
        }
      ]
    },
    {
      "cell_type": "code",
      "metadata": {
        "id": "b6VV1fJ70KsJ",
        "colab": {
          "base_uri": "https://localhost:8080/"
        },
        "outputId": "17970d60-4b98-4a94-c82e-581cd6501c85"
      },
      "source": [
        "x=y=z=\"Four\"\n",
        "print(x)\n",
        "print(z)\n",
        "print(y)"
      ],
      "execution_count": null,
      "outputs": [
        {
          "output_type": "stream",
          "name": "stdout",
          "text": [
            "Four\n",
            "Four\n",
            "Four\n"
          ]
        }
      ]
    },
    {
      "cell_type": "code",
      "metadata": {
        "id": "WLeiiSib0SgE",
        "colab": {
          "base_uri": "https://localhost:8080/"
        },
        "outputId": "cd4544d6-b5a4-4d16-eeb4-8dd2bfcabb4b"
      },
      "source": [
        "x=(\"enjoying\")\n",
        "print(\"Programming is \"+ x)"
      ],
      "execution_count": null,
      "outputs": [
        {
          "output_type": "stream",
          "name": "stdout",
          "text": [
            "Programming is enjoying\n"
          ]
        }
      ]
    },
    {
      "cell_type": "code",
      "metadata": {
        "id": "Miw1u1Pq0Yoz",
        "colab": {
          "base_uri": "https://localhost:8080/"
        },
        "outputId": "48e5649a-7bc9-4609-ee88-3e728394fa2c"
      },
      "source": [
        "x=(\"Python is\")\n",
        "y=(\" enjoying\")\n",
        "z= x + y\n",
        "print(z)"
      ],
      "execution_count": null,
      "outputs": [
        {
          "output_type": "stream",
          "name": "stdout",
          "text": [
            "Python is enjoying\n"
          ]
        }
      ]
    },
    {
      "cell_type": "code",
      "metadata": {
        "id": "2G0ht-9h0i_D",
        "colab": {
          "base_uri": "https://localhost:8080/"
        },
        "outputId": "5c0bdee5-5f52-430f-ef86-6c6bbe006d06"
      },
      "source": [
        "x=5\n",
        "y=4\n",
        "z=y-x\n",
        "print(z)"
      ],
      "execution_count": null,
      "outputs": [
        {
          "output_type": "stream",
          "name": "stdout",
          "text": [
            "-1\n"
          ]
        }
      ]
    },
    {
      "cell_type": "code",
      "metadata": {
        "id": "wIR5Tghq0nu0",
        "colab": {
          "base_uri": "https://localhost:8080/"
        },
        "outputId": "411a72c0-62db-481a-eae0-3dca470d6187"
      },
      "source": [
        "x+=1\n",
        "print(x)"
      ],
      "execution_count": null,
      "outputs": [
        {
          "output_type": "stream",
          "name": "stdout",
          "text": [
            "6\n"
          ]
        }
      ]
    },
    {
      "cell_type": "code",
      "metadata": {
        "id": "5AnILoif0u3P",
        "colab": {
          "base_uri": "https://localhost:8080/"
        },
        "outputId": "7c43a889-a872-427a-b680-7673131cdc27"
      },
      "source": [
        "a,b,c=0,-1,8\n",
        "c%=3\n",
        "b%=5\n",
        "print(int(c))"
      ],
      "execution_count": null,
      "outputs": [
        {
          "output_type": "stream",
          "name": "stdout",
          "text": [
            "2\n"
          ]
        }
      ]
    },
    {
      "cell_type": "code",
      "metadata": {
        "id": "GWQoi2RX02oA",
        "colab": {
          "base_uri": "https://localhost:8080/"
        },
        "outputId": "d2675773-c193-49ad-c352-f0f8de4be80c"
      },
      "source": [
        "x=5\n",
        "x<6 and x<10"
      ],
      "execution_count": null,
      "outputs": [
        {
          "output_type": "execute_result",
          "data": {
            "text/plain": [
              "True"
            ]
          },
          "metadata": {},
          "execution_count": 26
        }
      ]
    },
    {
      "cell_type": "code",
      "metadata": {
        "id": "s-Q7k7XS07kw",
        "colab": {
          "base_uri": "https://localhost:8080/"
        },
        "outputId": "5a448343-cef1-40df-8c65-1beced1f9df4"
      },
      "source": [
        "x=5\n",
        "not(x>5 or x>10)"
      ],
      "execution_count": null,
      "outputs": [
        {
          "output_type": "execute_result",
          "data": {
            "text/plain": [
              "True"
            ]
          },
          "metadata": {},
          "execution_count": 28
        }
      ]
    },
    {
      "cell_type": "code",
      "metadata": {
        "id": "D8NQ2Eyb1CQw",
        "colab": {
          "base_uri": "https://localhost:8080/"
        },
        "outputId": "9151ec50-cef9-4859-c52b-499a3949b176"
      },
      "source": [
        "y=5\n",
        "x>5 ^ x<10"
      ],
      "execution_count": null,
      "outputs": [
        {
          "output_type": "execute_result",
          "data": {
            "text/plain": [
              "True"
            ]
          },
          "metadata": {},
          "execution_count": 31
        }
      ]
    },
    {
      "cell_type": "code",
      "metadata": {
        "id": "PZj6aZb91L0f",
        "colab": {
          "base_uri": "https://localhost:8080/"
        },
        "outputId": "060b3328-9e39-4e0b-f0d1-478cbbc864c1"
      },
      "source": [
        "x=5\n",
        "x<6 and x<10"
      ],
      "execution_count": null,
      "outputs": [
        {
          "output_type": "execute_result",
          "data": {
            "text/plain": [
              "True"
            ]
          },
          "metadata": {},
          "execution_count": 32
        }
      ]
    },
    {
      "cell_type": "code",
      "metadata": {
        "id": "-aLIO0O91QZQ",
        "colab": {
          "base_uri": "https://localhost:8080/"
        },
        "outputId": "22a37f58-050f-4b91-81ca-618645206636"
      },
      "source": [
        "x=5\n",
        "not (x>5 or x>10)"
      ],
      "execution_count": null,
      "outputs": [
        {
          "output_type": "execute_result",
          "data": {
            "text/plain": [
              "True"
            ]
          },
          "metadata": {},
          "execution_count": 33
        }
      ]
    },
    {
      "cell_type": "code",
      "metadata": {
        "id": "Skkt-N-e1VCw",
        "colab": {
          "base_uri": "https://localhost:8080/"
        },
        "outputId": "f866ed3d-3b39-4fe0-fdf9-44e4aeda1568"
      },
      "source": [
        "y=5\n",
        "x>5 ^ x<10"
      ],
      "execution_count": null,
      "outputs": [
        {
          "output_type": "execute_result",
          "data": {
            "text/plain": [
              "True"
            ]
          },
          "metadata": {},
          "execution_count": 34
        }
      ]
    },
    {
      "cell_type": "code",
      "metadata": {
        "id": "860yvHA_1ZZh",
        "colab": {
          "base_uri": "https://localhost:8080/"
        },
        "outputId": "949c5c74-5160-428a-928e-9402179eab56"
      },
      "source": [
        "x is y\n",
        "x is not y"
      ],
      "execution_count": null,
      "outputs": [
        {
          "output_type": "execute_result",
          "data": {
            "text/plain": [
              "False"
            ]
          },
          "metadata": {},
          "execution_count": 35
        }
      ]
    }
  ]
}